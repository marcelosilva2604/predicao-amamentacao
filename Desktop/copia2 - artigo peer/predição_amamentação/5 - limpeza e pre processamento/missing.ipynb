{
 "cells": [
  {
   "cell_type": "code",
   "execution_count": 4,
   "id": "06ba307b",
   "metadata": {},
   "outputs": [
    {
     "name": "stderr",
     "output_type": "stream",
     "text": [
      "/var/folders/5y/0szcmfss733cjc3_cyqw8lj80000gn/T/ipykernel_87881/3210555726.py:4: DtypeWarning: Columns (516,520,524) have mixed types. Specify dtype option on import or set low_memory=False.\n",
      "  df = pd.read_csv('/Users/marcelosilva/Desktop/copia2 - artigo peer/predição_amamentação/4 - arquivo final sem bloco E/criancas_menores_6_meses_reorganizado.csv')\n"
     ]
    }
   ],
   "source": [
    "import pandas as pd\n",
    "\n",
    "\n",
    "df = pd.read_csv('/Users/marcelosilva/Desktop/copia2 - artigo peer/predição_amamentação/4 - arquivo final sem bloco E/criancas_menores_6_meses_reorganizado.csv')"
   ]
  },
  {
   "cell_type": "code",
   "execution_count": 5,
   "id": "b65fb8c8",
   "metadata": {},
   "outputs": [
    {
     "name": "stdout",
     "output_type": "stream",
     "text": [
      "Colunas com valores faltantes:\n",
      "i082_30m_nome                  1960\n",
      "i088_30m_compara               1960\n",
      "i080_30m_cor                   1960\n",
      "i081_30m_atencao               1960\n",
      "u31a_observacoes               1960\n",
      "                               ... \n",
      "bbb08_numero_mais_novo1          21\n",
      "m12_despesas                     17\n",
      "m11_quem_decide                  17\n",
      "s03_peso_medida2                 16\n",
      "i993_faltou_alguma_refeicao       1\n",
      "Length: 406, dtype: int64\n",
      "\n",
      "Dataset salvo como 'DS_missing.csv'\n",
      "Dimensões do dataset: (1960, 691)\n",
      "\n",
      "Dataset salvo como 'DS_missing.csv'\n",
      "Dimensões do dataset: (1960, 691)\n"
     ]
    }
   ],
   "source": [
    "import numpy as np\n",
    "\n",
    "\n",
    "var_9 = [\n",
    "\"k23_deixou\", \"k14_ainda\", \"h13_diarreia\", \"h05_chupeta_usou\",\n",
    "\"h14_tosse\", \"k15_recebeu\", \"k25_mamadeira\", \"h17_nariz\",\n",
    "\"k29_alimentacao\", \"d01_cor\", \"h19_febre\", \"h18_ronqueira\",\n",
    "\"h20_outro_problema\", \"k16_liquido\", \"k28_aleitamento\", \"p11_agua\",\n",
    "\"u01_febre_diarreia\", \"i993_faltou_alguma_refeicao\", \"h15_respiracao\",\n",
    "\"p12_lixo\", \"h11_alergia\", \"k11_amamentou\", \"u23_febre_diarreia\",\n",
    "\"h16_canseira\"\n",
    "]\n",
    "\n",
    "\n",
    "var_99 = [\n",
    "\"k03_prenatal\", \"k02_filhos_vivos\", \"h06_chupeta_comecou\",\n",
    "\"h08_chupeta_parou\", \"k04_prenatal_semanas\", \"k10_meses\",\n",
    "\"k26_idade\", \"k05_prenatal_consultas\", \"q04_quantos_moradores\",\n",
    "\"u24a_refeicao_hora\", \"u27b_coleta_minuto\", \"u27a_coleta_hora\",\n",
    "\"u09b_refeicao_minuto\", \"u24b_refeicao_minuto\", \"k01_gestacoes\",\n",
    "\"u09a_refeicao_hora\"\n",
    "]\n",
    "\n",
    "\n",
    "var_999_9 = [\n",
    "\"k06_peso_engravidar\",    # Não sabe/não quis\n",
    "\"k07_peso_final\",          # Não sabe/não quis\n",
    "\"s33_altura_medida3\",      # Não conseguiu realizar\n",
    "\"s33a_altura_medida4\"      # Não conseguiu realizar\n",
    "]\n",
    "\n",
    "# Criar uma cópia do dataframe original\n",
    "df_missing = df.copy()\n",
    "\n",
    "# Substituir valores das variáveis com código 9 por NaN\n",
    "for col in var_9:\n",
    "    if col in df_missing.columns:\n",
    "        df_missing[col] = df_missing[col].replace(9, np.nan)\n",
    "\n",
    "# Substituir valores das variáveis com código 99 por NaN\n",
    "for col in var_99:\n",
    "    if col in df_missing.columns:\n",
    "        df_missing[col] = df_missing[col].replace(99, np.nan)\n",
    "\n",
    "# Substituir valores das variáveis com código 999.9 por NaN\n",
    "for col in var_999_9:\n",
    "    if col in df_missing.columns:\n",
    "        df_missing[col] = df_missing[col].replace(999.9, np.nan)\n",
    "\n",
    "# Remover espaços em branco que representam valores vazios\n",
    "df_missing = df_missing.replace(r'^\\s*$', np.nan, regex=True)\n",
    "\n",
    "# Verificar quantos valores faltantes temos por coluna\n",
    "missing_count = df_missing.isnull().sum()\n",
    "print(\"Colunas com valores faltantes:\")\n",
    "print(missing_count[missing_count > 0].sort_values(ascending=False))\n",
    "\n",
    "# Salvar o dataset com missing values tratados\n",
    "df_missing.to_csv('DS_missing.csv', index=False)\n",
    "\n",
    "print(f\"\\nDataset salvo como 'DS_missing.csv'\")\n",
    "print(f\"Dimensões do dataset: {df_missing.shape}\")"
   ]
  }
 ],
 "metadata": {
  "kernelspec": {
   "display_name": "pycaret_env",
   "language": "python",
   "name": "python3"
  },
  "language_info": {
   "codemirror_mode": {
    "name": "ipython",
    "version": 3
   },
   "file_extension": ".py",
   "mimetype": "text/x-python",
   "name": "python",
   "nbconvert_exporter": "python",
   "pygments_lexer": "ipython3",
   "version": "3.8.18"
  }
 },
 "nbformat": 4,
 "nbformat_minor": 5
}

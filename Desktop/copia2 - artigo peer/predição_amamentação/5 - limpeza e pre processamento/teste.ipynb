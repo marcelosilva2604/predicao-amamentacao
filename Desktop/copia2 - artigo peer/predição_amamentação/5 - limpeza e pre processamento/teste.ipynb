{
 "cells": [
  {
   "cell_type": "code",
   "execution_count": 3,
   "id": "cb53535b",
   "metadata": {},
   "outputs": [
    {
     "name": "stdout",
     "output_type": "stream",
     "text": [
      "Shape of df: (1960, 691)\n",
      "Shape of df1: (1960, 346)\n"
     ]
    },
    {
     "name": "stderr",
     "output_type": "stream",
     "text": [
      "/var/folders/5y/0szcmfss733cjc3_cyqw8lj80000gn/T/ipykernel_92251/3029092230.py:3: DtypeWarning: Columns (516,520,524) have mixed types. Specify dtype option on import or set low_memory=False.\n",
      "  df = pd.read_csv('/Users/marcelosilva/Desktop/copia2 - artigo peer/predição_amamentação/4 - arquivo final sem bloco E/criancas_menores_6_meses_reorganizado.csv')\n"
     ]
    }
   ],
   "source": [
    "import pandas as pd\n",
    "\n",
    "df = pd.read_csv('/Users/marcelosilva/Desktop/copia2 - artigo peer/predição_amamentação/4 - arquivo final sem bloco E/criancas_menores_6_meses_reorganizado.csv')\n",
    "df1 = pd.read_csv('/Users/marcelosilva/Desktop/copia2 - artigo peer/predição_amamentação/5 - limpeza e pre processamento/DS_clean_missing.csv')\n",
    "\n",
    "print(\"Shape of df:\", df.shape)\n",
    "print(\"Shape of df1:\", df1.shape)"
   ]
  }
 ],
 "metadata": {
  "kernelspec": {
   "display_name": "pycaret_env",
   "language": "python",
   "name": "python3"
  },
  "language_info": {
   "codemirror_mode": {
    "name": "ipython",
    "version": 3
   },
   "file_extension": ".py",
   "mimetype": "text/x-python",
   "name": "python",
   "nbconvert_exporter": "python",
   "pygments_lexer": "ipython3",
   "version": "3.8.18"
  }
 },
 "nbformat": 4,
 "nbformat_minor": 5
}

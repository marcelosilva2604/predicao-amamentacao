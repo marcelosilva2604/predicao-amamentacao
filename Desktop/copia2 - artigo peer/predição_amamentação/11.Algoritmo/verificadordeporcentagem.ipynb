{
 "cells": [
  {
   "cell_type": "code",
   "execution_count": 1,
   "id": "8f4fa625",
   "metadata": {},
   "outputs": [
    {
     "name": "stdout",
     "output_type": "stream",
     "text": [
      "Total máximo considerado como 100%: 49\n",
      "\n",
      "Verificação de porcentagens:\n",
      "----------------------------------------\n",
      "Valor 1: 12 = 24.49%\n",
      "Valor 2: 11 = 22.45%\n",
      "Valor 3: 8 = 16.33%\n",
      "Valor 4: 7 = 14.29%\n",
      "Valor 5: 4 = 8.16%\n",
      "Valor 6: 4 = 8.16%\n",
      "Valor 7: 3 = 6.12%\n",
      "----------------------------------------\n",
      "Soma total: 49 = 100.00%\n"
     ]
    }
   ],
   "source": [
    "# Verificador de porcentagem onde 49 representa 100%\n",
    "total_maximo = 49  # Este é nosso 100%\n",
    "valores = [12, 11, 8, 7, 4, 4, 3]\n",
    "\n",
    "print(f\"Total máximo considerado como 100%: {total_maximo}\")\n",
    "print(\"\\nVerificação de porcentagens:\")\n",
    "print(\"-\" * 40)\n",
    "\n",
    "for i, valor in enumerate(valores, 1):\n",
    "    porcentagem = (valor / total_maximo) * 100\n",
    "    print(f\"Valor {i}: {valor} = {porcentagem:.2f}%\")\n",
    "\n",
    "print(\"-\" * 40)\n",
    "soma_valores = sum(valores)\n",
    "porcentagem_total = (soma_valores / total_maximo) * 100\n",
    "print(f\"Soma total: {soma_valores} = {porcentagem_total:.2f}%\")"
   ]
  }
 ],
 "metadata": {
  "kernelspec": {
   "display_name": "pycaret_env",
   "language": "python",
   "name": "python3"
  },
  "language_info": {
   "codemirror_mode": {
    "name": "ipython",
    "version": 3
   },
   "file_extension": ".py",
   "mimetype": "text/x-python",
   "name": "python",
   "nbconvert_exporter": "python",
   "pygments_lexer": "ipython3",
   "version": "3.8.18"
  }
 },
 "nbformat": 4,
 "nbformat_minor": 5
}

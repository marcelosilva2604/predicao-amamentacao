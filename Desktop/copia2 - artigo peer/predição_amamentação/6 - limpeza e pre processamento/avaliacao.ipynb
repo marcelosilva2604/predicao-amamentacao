{
 "cells": [
  {
   "cell_type": "code",
   "execution_count": 8,
   "id": "e0a3edf0",
   "metadata": {},
   "outputs": [],
   "source": [
    "import pandas as pd\n",
    "\n",
    "\n",
    "df = pd.read_csv('/Users/marcelosilva/Desktop/copia2 - artigo peer/predição_amamentação/5 - limpeza e pre processamento/DS_clean_missing.csv')"
   ]
  },
  {
   "cell_type": "code",
   "execution_count": 9,
   "id": "2b8caf7c",
   "metadata": {},
   "outputs": [
    {
     "name": "stdout",
     "output_type": "stream",
     "text": [
      "2    1040\n",
      "1     920\n",
      "Name: aleitamento_materno_exclusivo, dtype: int64\n",
      "\n",
      "Informações sobre a variável:\n",
      "count    1960.000000\n",
      "mean        1.530612\n",
      "std         0.499189\n",
      "min         1.000000\n",
      "25%         1.000000\n",
      "50%         2.000000\n",
      "75%         2.000000\n",
      "max         2.000000\n",
      "Name: aleitamento_materno_exclusivo, dtype: float64\n"
     ]
    }
   ],
   "source": [
    "aleitamento_data = df['aleitamento_materno_exclusivo']\n",
    "print(aleitamento_data.value_counts())\n",
    "print(\"\\nInformações sobre a variável:\")\n",
    "print(aleitamento_data.describe())"
   ]
  },
  {
   "cell_type": "code",
   "execution_count": 10,
   "id": "4ae9e435",
   "metadata": {},
   "outputs": [
    {
     "name": "stdout",
     "output_type": "stream",
     "text": [
      "Arquivo criado em: /Users/marcelosilva/Desktop/copia2 - artigo peer/predição_amamentação/6 - limpeza e pre processamento/cruzamentodados.txt\n",
      "Total de colunas processadas: 346\n",
      "Colunas encontradas: 345 (99.7%)\n",
      "Colunas não encontradas: 1\n"
     ]
    },
    {
     "name": "stderr",
     "output_type": "stream",
     "text": [
      "/opt/anaconda3/envs/pycaret_env/lib/python3.8/site-packages/openpyxl/worksheet/_reader.py:329: UserWarning: Unknown extension is not supported and will be removed\n",
      "  warn(msg)\n"
     ]
    }
   ],
   "source": [
    "import pandas as pd\n",
    "\n",
    "# Ler o dicionário\n",
    "dicionario_path = '/Users/marcelosilva/Desktop/copia2 - artigo peer/predição_amamentação/6 - limpeza e pre processamento/4-Dicionario-ENANI-2019 (1).xlsx'\n",
    "dicionario = pd.read_excel(dicionario_path)\n",
    "\n",
    "# Obter as colunas do dataframe\n",
    "colunas_df = df.columns.tolist()\n",
    "\n",
    "# Criar lista para armazenar os cruzamentos\n",
    "cruzamentos = []\n",
    "\n",
    "# Para cada coluna do df, verificar se existe no dicionário\n",
    "for coluna in colunas_df:\n",
    "    # Assumindo que a coluna com os nomes das variáveis no dicionário se chama 'Variável' ou similar\n",
    "    # Ajuste o nome da coluna conforme necessário\n",
    "    if coluna in dicionario.iloc[:, 0].values:  # Primeira coluna do dicionário\n",
    "        descricao = dicionario[dicionario.iloc[:, 0] == coluna].iloc[0, 1]  # Segunda coluna seria a descrição\n",
    "        cruzamentos.append(f\"Coluna: {coluna} - Descrição: {descricao}\")\n",
    "    else:\n",
    "        cruzamentos.append(f\"Coluna: {coluna} - Descrição: Não encontrada no dicionário\")\n",
    "\n",
    "# Salvar o arquivo\n",
    "output_path = '/Users/marcelosilva/Desktop/copia2 - artigo peer/predição_amamentação/6 - limpeza e pre processamento/cruzamentodados.txt'\n",
    "with open(output_path, 'w', encoding='utf-8') as f:\n",
    "    for item in cruzamentos:\n",
    "        f.write(item + '\\n')\n",
    "\n",
    "print(f\"Arquivo criado em: {output_path}\")\n",
    "print(f\"Total de colunas processadas: {len(colunas_df)}\")"
   ]
  },
  {
   "cell_type": "code",
   "execution_count": 13,
   "id": "39957b1e",
   "metadata": {},
   "outputs": [
    {
     "name": "stdout",
     "output_type": "stream",
     "text": [
      "Banco de dados criado: /Users/marcelosilva/Desktop/copia2 - artigo peer/predição_amamentação/6 - limpeza e pre processamento/tecnClean.csv\n",
      "Colunas removidas (23): ['id_domic_anon', 'id_resp_anon', 'a06_domicilio', 'b00_numero', 'b04_idade', 'b05_data', 'b06_numero_mae', 'b06b_mae_responsavel', 'bbb08_numero_mais_novo1', 'bbb08a_numero_mais_velho1', 'datablb', 'estrato_sel_anon', 'i000b_data_do_dia', 'i000c_idade_em_meses', 'i000d_data_ajustada', 'i000e_semanas_gravidez', 'idade_anos_comp', 'posestrato', 's00c_data_peso', 's00e_data_altura', 'setor_anon', 'id_upa_anon', 'vd_bbb07_mae_resp1']\n",
      "Dimensões originais: (1960, 346)\n",
      "Dimensões após limpeza: (1960, 323)\n"
     ]
    }
   ],
   "source": [
    "# Colunas para fazer drop (baseadas na lista fornecida no comentário)\n",
    "colunas_drop = [\n",
    "    'id_domic_anon', 'id_resp_anon', 'a06_domicilio', 'b00_numero', \n",
    "    'b04_idade', 'b05_data', 'b06_numero_mae', 'b06b_mae_responsavel',\n",
    "    'bbb08_numero_mais_novo1', 'bbb08a_numero_mais_velho1', 'datablb',\n",
    "    'estrato_sel_anon', 'i000b_data_do_dia', 'i000c_idade_em_meses',\n",
    "    'i000d_data_ajustada', 'i000e_semanas_gravidez', 'idade_anos_comp',\n",
    "    'posestrato', 's00c_data_peso', 's00e_data_altura', 'setor_anon',\n",
    "    'id_upa_anon', 'vd_bbb07_mae_resp1'\n",
    "]\n",
    "\n",
    "# Verificar quais colunas existem no dataframe\n",
    "colunas_existentes = [col for col in colunas_drop if col in df.columns]\n",
    "\n",
    "# Criar novo dataframe sem as colunas especificadas\n",
    "df_clean = df.drop(columns=colunas_existentes)\n",
    "\n",
    "# Salvar o novo banco de dados\n",
    "output_path = '/Users/marcelosilva/Desktop/copia2 - artigo peer/predição_amamentação/6 - limpeza e pre processamento/tecnClean.csv'\n",
    "df_clean.to_csv(output_path, index=False)\n",
    "\n",
    "print(f\"Banco de dados criado: {output_path}\")\n",
    "print(f\"Colunas removidas ({len(colunas_existentes)}): {colunas_existentes}\")\n",
    "print(f\"Dimensões originais: {df.shape}\")\n",
    "print(f\"Dimensões após limpeza: {df_clean.shape}\")"
   ]
  },
  {
   "cell_type": "code",
   "execution_count": null,
   "id": "fd92088b",
   "metadata": {},
   "outputs": [],
   "source": []
  }
 ],
 "metadata": {
  "kernelspec": {
   "display_name": "pycaret_env",
   "language": "python",
   "name": "python3"
  },
  "language_info": {
   "codemirror_mode": {
    "name": "ipython",
    "version": 3
   },
   "file_extension": ".py",
   "mimetype": "text/x-python",
   "name": "python",
   "nbconvert_exporter": "python",
   "pygments_lexer": "ipython3",
   "version": "3.8.18"
  }
 },
 "nbformat": 4,
 "nbformat_minor": 5
}

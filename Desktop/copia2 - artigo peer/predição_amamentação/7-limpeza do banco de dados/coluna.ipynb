{
 "cells": [
  {
   "cell_type": "code",
   "execution_count": 1,
   "id": "79b47482",
   "metadata": {},
   "outputs": [
    {
     "name": "stdout",
     "output_type": "stream",
     "text": [
      "Number of columns: 173\n",
      "\n",
      "Column names:\n",
      "['aleitamento_materno_exclusivo', 'id_anon', 'a00_regiao', 'a11_situacao', 'b02_sexo', 'b03_relacao', 'b05a_idade_em_meses', 'bb04_idade_da_mae', 'd01_cor', 'f001_esta_usando', 'g001_usou', 'g150_vitaminas', 'g151_sache', 'h01_semanas_gravidez', 'h02_peso', 'h03_altura', 'h04_parto', 'h05_chupeta_usou', 'h10_consulta', 'h10b1_sindrome_nao', 'h11_alergia', 'h13_diarreia', 'h14_tosse', 'h15_respiracao', 'h16_canseira', 'h17_nariz', 'h18_ronqueira', 'h19_febre', 'h20_outro_problema', 'h21_internado', 'h211_internado_respiratoria', 'h212_internado_intestinais', 'h213_internado_acidente', 'h214_internado_alergias', 'h215_internado_outras', 'h216_internado_nao', 'h219_internado_nao_sabe', 'i993_faltou_alguma_refeicao', 'j03_cor', 'j04_vive', 'j05_religiao', 'j0501_rel_catolica', 'j0502_rel_evangelica_tradicional', 'j0503_rel_evangelica_pentecostal', 'j0504_rel_espirita_kardecista', 'j0505_rel_afro_brasileira', 'j0506_rel_protestante_historica', 'j0507_rel_budista', 'j0508_rel_sem_religiao', 'j0509_rel_outra_religiao', 'j0510_rel_ns_nqr', 'j06_ocupacao', 'j09_frequenta', 'j10_serie', 'k01_gestacoes', 'k02_filhos_vivos', 'k03_prenatal', 'k04_prenatal_semanas', 'k05_prenatal_consultas', 'k06_peso_engravidar', 'k07_peso_final', 'k08_quilos', 'k12_tempo', 'k13_tempo_medida', 'k15_recebeu', 'k16_liquido', 'k20_doou', 'k21_recebeu', 'k22_amamentou', 'k23_deixou', 'k24_utilizou', 'k241_utilizou_concha', 'k242_utilizou_protetor', 'k243_utilizou_bico', 'k244_utilizou_bomba', 'k245_utilizou_mamadeira', 'k246_utilizou_sondinha', 'k247_utilizou_copo', 'k248_utilizou_nao', 'k249_utilizou_nao_sabe', 'k25_mamadeira', 'k28_aleitamento', 'k29_alimentacao', 'l01_morador_alim_acabassem', 'l02_morador_alim_acabaram', 'l03_morador_saudavel', 'l04_morador_insuficiente', 'l05_adulto_saltou_refeicao', 'l06_adulto_comeu_menos', 'l07_adulto_sentiu_fome', 'l08_adulto_sem_comer', 'l09_menos18_saudavel', 'l10_menos18_insuficiente', 'l11_menos18_diminuiu', 'l12_menos18_saltou_refeicao', 'l13_menos18_sentiu_fome', 'l14_menos18_sem_comer', 'm01_costuma_cozinhar', 'm03_alimentos_basicos', 'm04_confiante', 'm05_organiza', 'm06_facilidade', 'm07_sabe_basico', 'm08_adiantar_etapas', 'm09_atividades_divididas', 'n01_frutas', 'n02_legumes', 'n03_verduras', 'n04_feijao', 'n05_suco', 'n06_refrigerantes', 'n07_biscoitos', 'n08_salgadinhos', 'n09_balas', 'o01_frutas_comprar', 'o02_frutas_qualidade', 'o03_frutas_variedade', 'o04_frutas_baratas', 'o05_refrigerantes_comprar', 'o06_refrigerantes_variedade', 'o07_refrigerantes_baratos', 'p02_tipo_de_domicilio', 'p03_ocupacao', 'p05_comodos', 'p06_cozinha', 'p07_dormitorios', 'p08_banheiros_exclusivo', 'p09_banheiros_chuveiro', 'p10_esgoto', 'p11_agua', 'p12_lixo', 'p13_energia_eletrica', 'q01_recebe_beneficio', 'q06_renda', 'q07_renda_faixa', 'r01_televisao', 'r02_automoveis', 'r03_radio', 'r04_geladeira', 'r05_vcr', 'r06_lavadora', 'r07_micro_ondas', 'r08_telefone_fixo', 'r09_microcomputador', 'r10_ar_condicionado', 'r11_tv_a_cabo', 'r12_internet_domicilio', 'r13_internet_celular', 'r14_celular', 't05_altura_medida1', 't06_altura_medida2', 't06a_altura_padrao', 'total_12p', 'x06_total_pessoas', 'x07_total_criancas', 'x08_total_maes_resp', 'vd_ien_escore', 'vd_ien_quintos', 'vd_ien_decimos', 'vd_dummy_domic_ien', 'vd_ebia_escore', 'vd_ebia_categ', 'vd_dummy_domic_ebia', 'vd_suplemento', 'vd_suplemento_sus', 'vd_suplemento_comercial', 'vd_num_supl', 'vd_zwaz', 'vd_zimc', 'vd_zhaz', 'vd_anthro_zwfl', 'vd_prematura_igb', 'vd_imc_mae']\n"
     ]
    }
   ],
   "source": [
    "import pandas as pd\n",
    "\n",
    "# Load the CSV file\n",
    "df = pd.read_csv('/Users/marcelosilva/Desktop/copia2 - artigo peer/predição_amamentação/7-limpeza do banco de dados/cs.csv')\n",
    "\n",
    "# Display the number of columns\n",
    "print(f\"Number of columns: {df.shape[1]}\")\n",
    "\n",
    "# Display column names\n",
    "print(\"\\nColumn names:\")\n",
    "print(df.columns.tolist())"
   ]
  }
 ],
 "metadata": {
  "kernelspec": {
   "display_name": "pycaret_env",
   "language": "python",
   "name": "python3"
  },
  "language_info": {
   "codemirror_mode": {
    "name": "ipython",
    "version": 3
   },
   "file_extension": ".py",
   "mimetype": "text/x-python",
   "name": "python",
   "nbconvert_exporter": "python",
   "pygments_lexer": "ipython3",
   "version": "3.8.18"
  }
 },
 "nbformat": 4,
 "nbformat_minor": 5
}

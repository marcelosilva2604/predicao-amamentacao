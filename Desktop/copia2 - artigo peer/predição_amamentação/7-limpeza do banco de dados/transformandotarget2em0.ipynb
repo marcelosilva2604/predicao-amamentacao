{
 "cells": [
  {
   "cell_type": "code",
   "execution_count": 1,
   "id": "2fdd8f5d",
   "metadata": {},
   "outputs": [
    {
     "name": "stdout",
     "output_type": "stream",
     "text": [
      "ANTES da transformação:\n",
      "1     920\n",
      "2    1040\n",
      "Name: aleitamento_materno_exclusivo, dtype: int64\n",
      "\n",
      "DEPOIS da transformação:\n",
      "0    1040\n",
      "1     920\n",
      "Name: aleitamento_materno_exclusivo, dtype: int64\n",
      "\n",
      "✅ Dataset modificado e salvo com sucesso!\n",
      "Target agora: 0 = Não AME | 1 = AME\n"
     ]
    }
   ],
   "source": [
    "import pandas as pd\n",
    "\n",
    "# Carregar o dataset atual\n",
    "df = pd.read_csv('cs.csv')\n",
    "\n",
    "# Verificar distribuição atual\n",
    "print(\"ANTES da transformação:\")\n",
    "print(df['aleitamento_materno_exclusivo'].value_counts().sort_index())\n",
    "\n",
    "# Transformar 2 → 0 diretamente na coluna existente\n",
    "df['aleitamento_materno_exclusivo'] = df['aleitamento_materno_exclusivo'].replace(2, 0)\n",
    "\n",
    "# Verificar transformação\n",
    "print(\"\\nDEPOIS da transformação:\")\n",
    "print(df['aleitamento_materno_exclusivo'].value_counts().sort_index())\n",
    "\n",
    "# Salvar por cima do arquivo original\n",
    "df.to_csv('cs.csv', index=False)\n",
    "\n",
    "print(\"\\n✅ Dataset modificado e salvo com sucesso!\")\n",
    "print(\"Target agora: 0 = Não AME | 1 = AME\")"
   ]
  },
  {
   "cell_type": "code",
   "execution_count": null,
   "id": "d0888ff5",
   "metadata": {},
   "outputs": [],
   "source": []
  }
 ],
 "metadata": {
  "kernelspec": {
   "display_name": "pycaret_env",
   "language": "python",
   "name": "python3"
  },
  "language_info": {
   "codemirror_mode": {
    "name": "ipython",
    "version": 3
   },
   "file_extension": ".py",
   "mimetype": "text/x-python",
   "name": "python",
   "nbconvert_exporter": "python",
   "pygments_lexer": "ipython3",
   "version": "3.8.18"
  }
 },
 "nbformat": 4,
 "nbformat_minor": 5
}
